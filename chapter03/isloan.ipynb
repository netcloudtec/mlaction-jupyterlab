{
 "cells": [
  {
   "cell_type": "code",
   "execution_count": 103,
   "id": "34bb4391-1000-464c-829d-1d20db6152d8",
   "metadata": {},
   "outputs": [],
   "source": [
    "# -*- coding:utf-8 -*-\n",
    "from math import log\n",
    "import matplotlib.pyplot as plt\n",
    "from matplotlib.font_manager import FontProperties"
   ]
  },
  {
   "cell_type": "markdown",
   "id": "26d241ab-3d35-42c7-a8f6-1b735bf211a9",
   "metadata": {},
   "source": [
    "年龄：0代表青年，1代表中年，2代表老年；  \n",
    "有工作：0代表否，1代表是；  \n",
    "有自己的房子：0代表否，1代表是；  \n",
    "信贷情况：0代表一般，1代表好，2代表非常好；  \n",
    "类别(是否给贷款)：no代表否，yes代表是。\n"
   ]
  },
  {
   "cell_type": "code",
   "execution_count": 104,
   "id": "c8e02b7b-9b56-4257-b9f7-bec839e96cd0",
   "metadata": {},
   "outputs": [],
   "source": [
    "def createDataSet():\n",
    "    dataSet = [[0, 0, 0, 0, 'no'],  # 数据集\n",
    "               [0, 0, 0, 1, 'no'],\n",
    "               [0, 1, 0, 1, 'yes'],\n",
    "               [0, 1, 1, 0, 'yes'],\n",
    "               [0, 0, 0, 0, 'no'],\n",
    "               [1, 0, 0, 0, 'no'],\n",
    "               [1, 0, 0, 1, 'no'],\n",
    "               [1, 1, 1, 1, 'yes'],\n",
    "               [1, 0, 1, 2, 'yes'],\n",
    "               [1, 0, 1, 2, 'yes'],\n",
    "               [2, 0, 1, 2, 'yes'],\n",
    "               [2, 0, 1, 1, 'yes'],\n",
    "               [2, 1, 0, 1, 'yes'],\n",
    "               [2, 1, 0, 2, 'yes'],\n",
    "               [2, 0, 0, 0, 'no']]\n",
    "    labels = ['年龄', '有工作', '有自己的房子', '信贷情况']  # 特征标签\n",
    "    return dataSet, labels"
   ]
  },
  {
   "cell_type": "markdown",
   "id": "1a4f4352-c85f-4441-bf7e-de9e9cf3a777",
   "metadata": {},
   "source": [
    "信息熵（经验熵）：当我们处理机器学习问题时，我们通常使用信息熵来衡量数据集的不确定性。  \n",
    "信息熵值越大，数据集不确定性越高，信息量也就越大；信息熵值越小，数据集不确定性越小；当所有样本都属于同一类别时，经验熵达到最小值（0），表示数据集的不确定性最低。\n",
    "\n",
    "应用场景：经验熵在决策树算法中常被用于选择最佳的划分特征，通过计算每个特征的经验熵，我们可以评估它们对于目标变量的重要性，选择能够最大程度减少数据集不确定性的特征进行划分。\n",
    "\n",
    "分类案例: 假设我们有一个分类问题，数据集包含N个样本，每个样本都有一个标签。我们可以根据标签的分布情况计算经验熵。\n",
    "首先，我们计算每个标签的概率。假设标签有K个不同的取值，我们计算每个标签的频率（即出现的样本数除以总样本数），得到概率分布P。\n",
    "然后，我们使用经验熵的计算公式来计算熵值：\n",
    "H(P) = - Σ P(k) * log₂(P(k))\n",
    "其中，P(k)是第k个标签的概率，Σ表示对所有标签取值进行求和，log₂表示以2为底的对数。\n",
    "\n",
    "下面是一个简单的案例，展示如何计算经验熵：\n",
    "假设我们有一个二分类问题的数据集，包含100个样本，其中60个样本属于类别A，40个样本属于类别B。我们可以计算类别A和类别B的概率分布，并计算经验熵。\n",
    "计算类别A的概率：P(A) = 60 / 100 = 0.6\n",
    "计算类别B的概率：P(B) = 40 / 100 = 0.4\n",
    "计算经验熵：H(P) = - (0.6 * log₂(0.6) + 0.4 * log₂(0.4)) ≈ 0.971\n",
    "在这个案例中，经验熵的值约为0.971，表示数据集的不确定性相对较高。"
   ]
  },
  {
   "cell_type": "code",
   "execution_count": 105,
   "id": "f6fe2a24-ea49-4a0d-9797-60b5540cdb50",
   "metadata": {},
   "outputs": [],
   "source": [
    "\"\"\"\n",
    "函数说明:计算给定数据集的经验熵(香农熵) \n",
    "H(P) = - Σ P(k) * log₂(P(k))\n",
    "Parameters:\n",
    "    dataSet - 数据集\n",
    "Returns:\n",
    "    shannonEnt - 经验熵(香农熵)\n",
    "Modify:\n",
    "    2020-06-25\n",
    "\"\"\"\n",
    "\n",
    "def calcShannonEnt(dataSet):\n",
    "    numEntires = len(dataSet)  # 返回数据集的行数\n",
    "    labelCounts = {}  # 保存每个标签(Label)出现次数的字典\n",
    "    for featVec in dataSet:  # 对每组特征向量进行统计\n",
    "        currentLabel = featVec[-1]  # 提取标签(Label)信息\n",
    "        if currentLabel not in labelCounts.keys():  # 如果标签(Label)没有放入统计次数的字典,添加进去\n",
    "            labelCounts[currentLabel] = 0\n",
    "        labelCounts[currentLabel] += 1  # Label计数\n",
    "    shannonEnt = 0.0  # 经验熵(香农熵)\n",
    "    for key in labelCounts:  # 计算香农熵\n",
    "        prob = float(labelCounts[key]) / numEntires  # 选择该标签(Label)的概率\n",
    "        shannonEnt -= prob * log(prob, 2)  # 利用公式计算\n",
    "    return shannonEnt"
   ]
  },
  {
   "cell_type": "code",
   "execution_count": 106,
   "id": "d144f8af-61e3-4d73-b5d6-3d571f206bd4",
   "metadata": {},
   "outputs": [
    {
     "name": "stdout",
     "output_type": "stream",
     "text": [
      "0.9709505944546686\n"
     ]
    }
   ],
   "source": [
    "dataSet, features = createDataSet()\n",
    "print(calcShannonEnt(dataSet))"
   ]
  },
  {
   "cell_type": "code",
   "execution_count": 107,
   "id": "6777206b-23df-4a02-9fc8-32301ea629ec",
   "metadata": {},
   "outputs": [],
   "source": [
    "\"\"\"\n",
    "函数说明:按照给定特征划分数据集的子集\n",
    "Parameters:\n",
    "    dataSet - 待划分的数据集\n",
    "    axis - 划分数据集的某个特征\n",
    "    value - 需要返回的特征的值\n",
    "Returns:\n",
    "    子集中不包含指定的特征值\n",
    "Modify:\n",
    "    2020-06-25\n",
    "\"\"\"\n",
    "\n",
    "def splitDataSet(dataSet, axis, value):\n",
    "    retDataSet = []  # 创建返回的数据集列表\n",
    "    for featVec in dataSet:  # 遍历数据集\n",
    "        if featVec[axis] == value:\n",
    "            # list[0:5] 列表切片 索引值从0开始 不包含结束索引值\n",
    "            reducedFeatVec = featVec[:axis]  # 去掉axis特征\n",
    "            reducedFeatVec.extend(featVec[axis + 1:])  # 将符合条件的添加到返回的数据集\n",
    "            retDataSet.append(reducedFeatVec)\n",
    "    return retDataSet"
   ]
  },
  {
   "cell_type": "code",
   "execution_count": 108,
   "id": "5a08b8ce-8fbd-4e63-8241-3b6ee3b99750",
   "metadata": {},
   "outputs": [
    {
     "data": {
      "text/plain": [
       "[[0, 0, 0, 'no'],\n",
       " [0, 0, 1, 'no'],\n",
       " [1, 0, 1, 'yes'],\n",
       " [1, 1, 0, 'yes'],\n",
       " [0, 0, 0, 'no']]"
      ]
     },
     "execution_count": 108,
     "metadata": {},
     "output_type": "execute_result"
    }
   ],
   "source": [
    "splitDataSet(dataSet, 0, 0)"
   ]
  },
  {
   "cell_type": "markdown",
   "id": "f77c842c-df07-4033-8552-50013ef256bc",
   "metadata": {},
   "source": [
    "输出结果显示:  \n",
    "[[0, 0, 0, 'no'],  \n",
    " [0, 0, 1, 'no'],  \n",
    " [1, 0, 1, 'yes'],  \n",
    " [1, 1, 0, 'yes'],  \n",
    " [0, 0, 0, 'no']]  "
   ]
  },
  {
   "cell_type": "code",
   "execution_count": 109,
   "id": "3ef27357-616b-4b87-9de3-8e14852a1050",
   "metadata": {},
   "outputs": [],
   "source": [
    "\"\"\"\n",
    "函数说明:选择最优特征\n",
    "\n",
    "Parameters:\n",
    "    dataSet - 数据集\n",
    "Returns:\n",
    "    bestFeature - 信息增益最大的(最优)特征的索引值\n",
    "Modify:\n",
    "    2020-06-25\n",
    "\"\"\"\n",
    "\n",
    "def chooseBestFeatureToSplit(dataSet):\n",
    "    numFeatures = len(dataSet[0]) - 1  # 特征数量\n",
    "    baseEntropy = calcShannonEnt(dataSet)  # 计算数据集的信息熵\n",
    "    bestInfoGain = 0.0  # 信息增益\n",
    "    bestFeature = -1  # 最优特征的索引值\n",
    "    for i in range(numFeatures):  # 遍历所有特征\n",
    "        # 获取dataSet的第i个所有特征\n",
    "        featList = [example[i] for example in dataSet]\n",
    "        uniqueVals = set(featList)  # 创建set集合{},元素不可重复\n",
    "        newEntropy = 0.0  # 经验条件熵\n",
    "        for value in uniqueVals:  # 计算信息增益\n",
    "            subDataSet = splitDataSet(dataSet, i, value)  # subDataSet划分后的子集\n",
    "            prob = len(subDataSet) / float(len(dataSet))  # 计算子集的概率\n",
    "            newEntropy += prob * calcShannonEnt(subDataSet)  # 根据公式计算经验条件熵\n",
    "        infoGain = baseEntropy - newEntropy  # 信息增益\n",
    "        print(\"第%d个特征的增益为%.3f\" % (i, infoGain))  # 打印每个特征的信息增益\n",
    "        if (infoGain > bestInfoGain):  # 计算信息增益\n",
    "            bestInfoGain = infoGain  # 更新信息增益，找到最大的信息增益\n",
    "            bestFeature = i  # 记录信息增益最大的特征的索引值\n",
    "    return bestFeature  # 返回信息增益最大的特征的索引值"
   ]
  },
  {
   "cell_type": "code",
   "execution_count": 89,
   "id": "d077c73d-838c-46f4-9e99-224e3a9da996",
   "metadata": {},
   "outputs": [
    {
     "name": "stdout",
     "output_type": "stream",
     "text": [
      "第0个特征的增益为0.083\n",
      "第1个特征的增益为0.324\n",
      "第2个特征的增益为0.420\n",
      "第3个特征的增益为0.363\n",
      "2\n"
     ]
    }
   ],
   "source": [
    "print(chooseBestFeatureToSplit(dataSet))  # 选择最优特征"
   ]
  },
  {
   "cell_type": "code",
   "execution_count": 90,
   "id": "646be1f2-3023-4c70-910d-a874eba4e89f",
   "metadata": {},
   "outputs": [],
   "source": [
    "\"\"\"\n",
    "函数说明:创建决策树(这里的决策树就是我们后面的分类模型)\n",
    "\n",
    "Parameters:\n",
    "    dataSet - 训练数据集\n",
    "    labels - 分类属性标签\n",
    "    featLabels - 存储选择的最优特征标签\n",
    "Returns:\n",
    "    myTree - 决策树\n",
    "Modify:\n",
    "    2020-06-25\n",
    "\"\"\"\n",
    "def createTree(dataSet, labels, featLabels):\n",
    "    classList = [example[-1] for example in dataSet]  # 取分类标签(是否放贷:yes or no)\n",
    "    if classList.count(classList[0]) == len(classList):  # 如果类别完全相同则停止继续划分\n",
    "        return classList[0]\n",
    "    if len(dataSet[0]) == 1 or len(labels) == 0:  # 遍历完所有特征时返回出现次数最多的类标签\n",
    "        return majorityCnt(classList)\n",
    "    bestFeat = chooseBestFeatureToSplit(dataSet)  # 选择最优特征\n",
    "    bestFeatLabel = labels[bestFeat]  # 最优特征的标签\n",
    "    featLabels.append(bestFeatLabel)\n",
    "    myTree = {bestFeatLabel: {}}  # 根据最优特征的标签生成树\n",
    "    del (labels[bestFeat])  # 删除已经使用特征标签\n",
    "    featValues = [example[bestFeat] for example in dataSet]  # 得到训练集中所有最优特征的属性值\n",
    "    uniqueVals = set(featValues)  # 去掉重复的属性值\n",
    "    for value in uniqueVals:  # 遍历特征，创建决策树。\n",
    "        subLabels = labels[:]\n",
    "        myTree[bestFeatLabel][value] = createTree(splitDataSet(dataSet, bestFeat, value), subLabels, featLabels)\n",
    "    return myTree"
   ]
  },
  {
   "cell_type": "code",
   "execution_count": 91,
   "id": "06f2761c-1b94-4c5f-a917-2587031d497b",
   "metadata": {},
   "outputs": [
    {
     "name": "stdout",
     "output_type": "stream",
     "text": [
      "第0个特征的增益为0.083\n",
      "第1个特征的增益为0.324\n",
      "第2个特征的增益为0.420\n",
      "第3个特征的增益为0.363\n",
      "第0个特征的增益为0.252\n",
      "第1个特征的增益为0.918\n",
      "第2个特征的增益为0.474\n",
      "{'有自己的房子': {0: {'有工作': {0: 'no', 1: 'yes'}}, 1: 'yes'}}\n"
     ]
    }
   ],
   "source": [
    "featLabels = []\n",
    "myTree = createTree(dataSet, features, featLabels)\n",
    "print(myTree)"
   ]
  },
  {
   "cell_type": "code",
   "execution_count": 114,
   "id": "f82dbc2c-b0a4-4304-b1c1-f1b102608f4c",
   "metadata": {},
   "outputs": [],
   "source": [
    "# 以下的代码是数据的可视化操作\n",
    "\"\"\"\n",
    "函数说明:获取决策树叶子结点的数目\n",
    "\n",
    "Parameters:\n",
    "    myTree - 决策树\n",
    "Returns:\n",
    "    numLeafs - 决策树的叶子结点的数目\n",
    "Author:\n",
    "    Jack Cui\n",
    "Blog:\n",
    "    http://blog.csdn.net/c406495762\n",
    "Modify:\n",
    "    2020-06-25\n",
    "\"\"\"\n",
    "def getNumLeafs(myTree):\n",
    "    numLeafs = 0  # 初始化叶子\n",
    "    firstStr = next(iter(\n",
    "        myTree))  # python3中myTree.keys()返回的是dict_keys,不在是list,所以不能使用myTree.keys()[0]的方法获取结点属性，可以使用list(myTree.keys())[0]\n",
    "    secondDict = myTree[firstStr]  # 获取下一组字典\n",
    "    for key in secondDict.keys():\n",
    "        if type(secondDict[key]).__name__ == 'dict':  # 测试该结点是否为字典，如果不是字典，代表此结点为叶子结点\n",
    "            numLeafs += getNumLeafs(secondDict[key])\n",
    "        else:\n",
    "            numLeafs += 1\n",
    "    return numLeafs\n",
    "\n",
    "\"\"\"\n",
    "函数说明:获取决策树的层数\n",
    "\n",
    "Parameters:\n",
    "    myTree - 决策树\n",
    "Returns:\n",
    "    maxDepth - 决策树的层数\n",
    "Modify:\n",
    "    2020-06-25\n",
    "\"\"\"\n",
    "\n",
    "def getTreeDepth(myTree):\n",
    "    maxDepth = 0  # 初始化决策树深度\n",
    "    firstStr = next(iter(\n",
    "        myTree))  # python3中myTree.keys()返回的是dict_keys,不在是list,所以不能使用myTree.keys()[0]的方法获取结点属性，可以使用list(myTree.keys())[0]\n",
    "    secondDict = myTree[firstStr]  # 获取下一个字典\n",
    "    for key in secondDict.keys():\n",
    "        if type(secondDict[key]).__name__ == 'dict':  # 测试该结点是否为字典，如果不是字典，代表此结点为叶子结点\n",
    "            thisDepth = 1 + getTreeDepth(secondDict[key])\n",
    "        else:\n",
    "            thisDepth = 1\n",
    "        if thisDepth > maxDepth: maxDepth = thisDepth  # 更新层数\n",
    "    return maxDepth\n",
    "\n",
    "\n",
    "\"\"\"\n",
    "函数说明:绘制结点\n",
    "\n",
    "Parameters:\n",
    "    nodeTxt - 结点名\n",
    "    centerPt - 文本位置\n",
    "    parentPt - 标注的箭头位置\n",
    "    nodeType - 结点格式\n",
    "Returns:\n",
    "    无\n",
    "Modify:\n",
    "    2020-06-25\n",
    "\"\"\"\n",
    "\n",
    "def plotNode(nodeTxt, centerPt, parentPt, nodeType):\n",
    "    arrow_args = dict(arrowstyle=\"<-\")  # 定义箭头格式\n",
    "    font = FontProperties(fname=r\"./font/simsun.ttc\", size=14)  # 设置中文字体\n",
    "    createPlot.ax1.annotate(nodeTxt, xy=parentPt, xycoords='axes fraction',  # 绘制结点\n",
    "                            xytext=centerPt, textcoords='axes fraction',\n",
    "                            va=\"center\", ha=\"center\", bbox=nodeType, arrowprops=arrow_args, fontproperties=font)\n",
    "\n",
    "\n",
    "\"\"\"\n",
    "函数说明:标注有向边属性值\n",
    "\n",
    "Parameters:\n",
    "    cntrPt、parentPt - 用于计算标注位置\n",
    "    txtString - 标注的内容\n",
    "Returns:\n",
    "    无\n",
    "Modify:\n",
    "    2020-06-25\n",
    "\"\"\"\n",
    "def plotMidText(cntrPt, parentPt, txtString):\n",
    "    xMid = (parentPt[0] - cntrPt[0]) / 2.0 + cntrPt[0]  # 计算标注位置\n",
    "    yMid = (parentPt[1] - cntrPt[1]) / 2.0 + cntrPt[1]\n",
    "    createPlot.ax1.text(xMid, yMid, txtString, va=\"center\", ha=\"center\", rotation=30)\n",
    "\n",
    "\n",
    "\"\"\"\n",
    "函数说明:绘制决策树\n",
    "Parameters:\n",
    "    myTree - 决策树(字典)\n",
    "    parentPt - 标注的内容\n",
    "    nodeTxt - 结点名\n",
    "Returns:\n",
    "    无\n",
    "Modify:\n",
    "    2020-06-25\n",
    "\"\"\"\n",
    "\n",
    "def plotTree(myTree, parentPt, nodeTxt):\n",
    "    decisionNode = dict(boxstyle=\"sawtooth\", fc=\"0.8\")  # 设置结点格式\n",
    "    leafNode = dict(boxstyle=\"round4\", fc=\"0.8\")  # 设置叶结点格式\n",
    "    numLeafs = getNumLeafs(myTree)  # 获取决策树叶结点数目，决定了树的宽度\n",
    "    depth = getTreeDepth(myTree)  # 获取决策树层数\n",
    "    firstStr = next(iter(myTree))  # 下个字典\n",
    "    cntrPt = (plotTree.xOff + (1.0 + float(numLeafs)) / 2.0 / plotTree.totalW, plotTree.yOff)  # 中心位置\n",
    "    plotMidText(cntrPt, parentPt, nodeTxt)  # 标注有向边属性值\n",
    "    plotNode(firstStr, cntrPt, parentPt, decisionNode)  # 绘制结点\n",
    "    secondDict = myTree[firstStr]  # 下一个字典，也就是继续绘制子结点\n",
    "    plotTree.yOff = plotTree.yOff - 1.0 / plotTree.totalD  # y偏移\n",
    "    for key in secondDict.keys():\n",
    "        if type(secondDict[key]).__name__ == 'dict':  # 测试该结点是否为字典，如果不是字典，代表此结点为叶子结点\n",
    "            plotTree(secondDict[key], cntrPt, str(key))  # 不是叶结点，递归调用继续绘制\n",
    "        else:  # 如果是叶结点，绘制叶结点，并标注有向边属性值\n",
    "            plotTree.xOff = plotTree.xOff + 1.0 / plotTree.totalW\n",
    "            plotNode(secondDict[key], (plotTree.xOff, plotTree.yOff), cntrPt, leafNode)\n",
    "            plotMidText((plotTree.xOff, plotTree.yOff), cntrPt, str(key))\n",
    "    plotTree.yOff = plotTree.yOff + 1.0 / plotTree.totalD\n",
    "\n",
    "\"\"\"\n",
    "函数说明:创建绘制面板\n",
    "\n",
    "Parameters:\n",
    "    inTree - 决策树(字典)\n",
    "Returns:\n",
    "    无\n",
    "Modify:\n",
    "    2020-06-25\n",
    "\"\"\"\n",
    "\n",
    "def createPlot(inTree):\n",
    "    fig = plt.figure(1, facecolor='white')  # 创建fig\n",
    "    fig.clf()  # 清空fig\n",
    "    axprops = dict(xticks=[], yticks=[])\n",
    "    createPlot.ax1 = plt.subplot(111, frameon=False, **axprops)  # 去掉x、y轴\n",
    "    plotTree.totalW = float(getNumLeafs(inTree))  # 获取决策树叶结点数目\n",
    "    plotTree.totalD = float(getTreeDepth(inTree))  # 获取决策树层数\n",
    "    plotTree.xOff = -0.5 / plotTree.totalW;\n",
    "    plotTree.yOff = 1.0;  # x偏移\n",
    "    plotTree(inTree, (0.5, 1.0), '')  # 绘制决策树\n",
    "    plt.show()"
   ]
  },
  {
   "cell_type": "code",
   "execution_count": 115,
   "id": "0c7ac62e-12e6-4099-a97a-581f9a158b4f",
   "metadata": {},
   "outputs": [
    {
     "data": {
      "image/png": "[encoded data removed]",
      "text/plain": [
       "<Figure size 432x288 with 1 Axes>"
      ]
     },
     "metadata": {},
     "output_type": "display_data"
    }
   ],
   "source": [
    "createPlot(myTree)"
   ]
  },
  {
   "cell_type": "code",
   "execution_count": 117,
   "id": "a450a79c-5b92-498e-aaf4-8ac024e2f535",
   "metadata": {},
   "outputs": [],
   "source": [
    "\"\"\"\n",
    "函数说明:使用决策树分类（根据输入的特征，遍历决策树进行比较，然后输出结果）\n",
    "\n",
    "Parameters:\n",
    "    inputTree - 已经生成的决策树\n",
    "    featLabels - 存储选择的最优特征标签\n",
    "    testVec - 测试数据列表，顺序对应最优特征标签\n",
    "Returns:\n",
    "    classLabel - 分类结果\n",
    "Modify:\n",
    "    2020-06-25\n",
    "\"\"\"\n",
    "\n",
    "def classify(inputTree, featLabels, testVec):\n",
    "    firstStr = next(iter(inputTree))  # 获取决策树结点\n",
    "    secondDict = inputTree[firstStr]  # 下一个字典\n",
    "    featIndex = featLabels.index(firstStr)\n",
    "    for key in secondDict.keys():\n",
    "        if testVec[featIndex] == key:\n",
    "            if type(secondDict[key]).__name__ == 'dict':\n",
    "                classLabel = classify(secondDict[key], featLabels, testVec)\n",
    "            else:\n",
    "                classLabel = secondDict[key]\n",
    "    return classLabel"
   ]
  },
  {
   "cell_type": "code",
   "execution_count": 119,
   "id": "fb75890d-203c-4bdf-87b1-8ec73c289d05",
   "metadata": {},
   "outputs": [
    {
     "name": "stdout",
     "output_type": "stream",
     "text": [
      "放贷\n"
     ]
    }
   ],
   "source": [
    "# 使用决策树进行分类\n",
    "testVec = [1, 0]  # 测试数据\n",
    "result = classify(myTree, featLabels, testVec)\n",
    "if result == 'yes':\n",
    "    print(\"放贷\")\n",
    "if result == 'no':\n",
    "    print(\"不放贷\")"
   ]
  }
 ],
 "metadata": {
  "kernelspec": {
   "display_name": "Python 3",
   "language": "python",
   "name": "python3"
  },
  "language_info": {
   "codemirror_mode": {
    "name": "ipython",
    "version": 3
   },
   "file_extension": ".py",
   "mimetype": "text/x-python",
   "name": "python",
   "nbconvert_exporter": "python",
   "pygments_lexer": "ipython3",
   "version": "3.7.4"
  }
 },
 "nbformat": 4,
 "nbformat_minor": 5
}
