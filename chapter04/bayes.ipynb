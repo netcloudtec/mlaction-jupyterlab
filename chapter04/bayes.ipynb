{
 "cells": [
  {
   "cell_type": "code",
   "execution_count": 1,
   "id": "aa894cd3-45d5-4cfe-89e1-af9762ef4f2a",
   "metadata": {},
   "outputs": [
    {
     "ename": "TypeError",
     "evalue": "required field \"type_ignores\" missing from Module",
     "output_type": "error",
     "traceback": [
      "\u001B[0;31m---------------------------------------------------------------------------\u001B[0m",
      "\u001B[0;31mTypeError\u001B[0m                                 Traceback (most recent call last)",
      "\u001B[0;32m/usr/local/Cellar/python@3.9/3.9.14/Frameworks/Python.framework/Versions/3.9/lib/python3.9/codeop.py\u001B[0m in \u001B[0;36m__call__\u001B[0;34m(self, source, filename, symbol)\u001B[0m\n\u001B[1;32m    141\u001B[0m \u001B[0;34m\u001B[0m\u001B[0m\n\u001B[1;32m    142\u001B[0m     \u001B[0;32mdef\u001B[0m \u001B[0m__call__\u001B[0m\u001B[0;34m(\u001B[0m\u001B[0mself\u001B[0m\u001B[0;34m,\u001B[0m \u001B[0msource\u001B[0m\u001B[0;34m,\u001B[0m \u001B[0mfilename\u001B[0m\u001B[0;34m,\u001B[0m \u001B[0msymbol\u001B[0m\u001B[0;34m)\u001B[0m\u001B[0;34m:\u001B[0m\u001B[0;34m\u001B[0m\u001B[0;34m\u001B[0m\u001B[0m\n\u001B[0;32m--> 143\u001B[0;31m         \u001B[0mcodeob\u001B[0m \u001B[0;34m=\u001B[0m \u001B[0mcompile\u001B[0m\u001B[0;34m(\u001B[0m\u001B[0msource\u001B[0m\u001B[0;34m,\u001B[0m \u001B[0mfilename\u001B[0m\u001B[0;34m,\u001B[0m \u001B[0msymbol\u001B[0m\u001B[0;34m,\u001B[0m \u001B[0mself\u001B[0m\u001B[0;34m.\u001B[0m\u001B[0mflags\u001B[0m\u001B[0;34m,\u001B[0m \u001B[0;32mTrue\u001B[0m\u001B[0;34m)\u001B[0m\u001B[0;34m\u001B[0m\u001B[0;34m\u001B[0m\u001B[0m\n\u001B[0m\u001B[1;32m    144\u001B[0m         \u001B[0;32mfor\u001B[0m \u001B[0mfeature\u001B[0m \u001B[0;32min\u001B[0m \u001B[0m_features\u001B[0m\u001B[0;34m:\u001B[0m\u001B[0;34m\u001B[0m\u001B[0;34m\u001B[0m\u001B[0m\n\u001B[1;32m    145\u001B[0m             \u001B[0;32mif\u001B[0m \u001B[0mcodeob\u001B[0m\u001B[0;34m.\u001B[0m\u001B[0mco_flags\u001B[0m \u001B[0;34m&\u001B[0m \u001B[0mfeature\u001B[0m\u001B[0;34m.\u001B[0m\u001B[0mcompiler_flag\u001B[0m\u001B[0;34m:\u001B[0m\u001B[0;34m\u001B[0m\u001B[0;34m\u001B[0m\u001B[0m\n",
      "\u001B[0;31mTypeError\u001B[0m: required field \"type_ignores\" missing from Module"
     ]
    }
   ],
   "source": [
    "# -*- coding:utf-8 -*-\n",
    "from math import log\n",
    "import matplotlib.pyplot as plt\n",
    "from matplotlib.font_manager import FontProperties\n",
    "from numpy import *"
   ]
  },
  {
   "cell_type": "code",
   "execution_count": null,
   "id": "0b69366a-cb80-4470-952a-4adb55300955",
   "metadata": {},
   "outputs": [],
   "source": [
    "# 训练样本 （这里的训练样本已经被切分为了词条）\n",
    "def loadDataSet():\n",
    "    postingList = [['my', 'dog', 'has', 'flea', 'problems', 'help', 'please'],  # 切分的词条\n",
    "                   ['maybe', 'not', 'take', 'him', 'to', 'dog', 'park', 'stupid'],\n",
    "                   ['my', 'dalmation', 'is', 'so', 'cute', 'I', 'love', 'him'],\n",
    "                   ['stop', 'posting', 'stupid', 'worthless', 'garbage'],\n",
    "                   ['mr', 'licks', 'ate', 'my', 'steak', 'how', 'to', 'stop', 'him'],\n",
    "                   ['quit', 'buying', 'worthless', 'dog', 'food', 'stupid']]\n",
    "    classVec = [0, 1, 0, 1, 0, 1]  # 类别标签向量 1 代表侮辱性的文字 0 代表正常的言论\n",
    "    return postingList, classVec"
   ]
  },
  {
   "cell_type": "code",
   "execution_count": null,
   "id": "b1fbf495-c9ac-4227-91fa-09a2a1477014",
   "metadata": {},
   "outputs": [],
   "source": [
    "\"\"\"\n",
    "函数说明:创建词汇表\n",
    "1、将文档的单词去重（set）\n",
    "2、然后保存到list集合中作为词汇表 （后续将样本单词转为词向量会用到）\n",
    "Parameters:\n",
    "    dataSet:训练集\n",
    "Returns:\n",
    "    list(vocabSet) - 创建的词汇表\n",
    "['my', 'so', 'buying', 'park', 'help', 'licks', 'dalmation', 'please', 'has', 'ate', 'problems', 'garbage', 'him', \n",
    "'maybe', 'take', 'steak', 'love', 'cute', 'stupid', 'I', 'stop', 'is', 'flea', 'quit', 'food', 'worthless', 'to', \n",
    "'how', 'dog', 'posting', 'mr', 'not']\n",
    "\"\"\"\n",
    " \n",
    " \n",
    "def createVocabList(dataSet):\n",
    "    vocabSet = set([])  # 创建一个空集\n",
    "    for document in dataSet:\n",
    "        vocabSet = vocabSet | set(document)  # ｜ 创建两个集合的并集\n",
    "    return list(vocabSet)"
   ]
  },
  {
   "cell_type": "code",
   "execution_count": null,
   "id": "89e35e7c-9818-491b-9137-e9a168d50d0d",
   "metadata": {},
   "outputs": [],
   "source": [
    "postingList, classVec = loadDataSet()\n",
    "myVocabList = createVocabList(postingList)"
   ]
  },
  {
   "cell_type": "code",
   "execution_count": null,
   "id": "987f1339-7372-4e59-a1f4-fcd8e73fb33b",
   "metadata": {},
   "outputs": [],
   "source": [
    "\"\"\"\n",
    "函数说明:根据词汇表将训练样本 转为词向量\n",
    "Parameters:\n",
    "    vocabSList:词汇表\n",
    "    inputSet：训练样本\n",
    "Returns:\n",
    "    returnVec - 训练样本转为词向量\n",
    "    [1, 0, 0, 0, 1, 0, 0, 1, 1, 0, 1, 0, 0, 0, 0, 0, 0, 0, 0, 0, 0, 0, 1, 0, 0, 0, 0, 0, 1, 0, 0, 0]\n",
    "\"\"\"\n",
    " \n",
    " \n",
    "def setOfWords2Vec(vocabSList, inputSet):\n",
    "    returnVec = [0] * len(vocabSList)  # 创建一个一行 len(vocabSList) 列 元素值为0的矩阵\n",
    "    for word in inputSet:\n",
    "        if word in vocabSList:\n",
    "            returnVec[vocabSList.index(word)] = 1  # 获取指定单词的索引\n",
    "        else:\n",
    "            print(\"the word:%s is not in my Vocabulary!\" % word)\n",
    "    return returnVec"
   ]
  },
  {
   "cell_type": "code",
   "execution_count": 2,
   "id": "f648fc46-342c-4021-a6dd-d678d4e596ad",
   "metadata": {},
   "outputs": [
    {
     "ename": "TypeError",
     "evalue": "required field \"type_ignores\" missing from Module",
     "output_type": "error",
     "traceback": [
      "\u001B[0;31m---------------------------------------------------------------------------\u001B[0m",
      "\u001B[0;31mTypeError\u001B[0m                                 Traceback (most recent call last)",
      "\u001B[0;32m/usr/local/Cellar/python@3.9/3.9.14/Frameworks/Python.framework/Versions/3.9/lib/python3.9/codeop.py\u001B[0m in \u001B[0;36m__call__\u001B[0;34m(self, source, filename, symbol)\u001B[0m\n\u001B[1;32m    141\u001B[0m \u001B[0;34m\u001B[0m\u001B[0m\n\u001B[1;32m    142\u001B[0m     \u001B[0;32mdef\u001B[0m \u001B[0m__call__\u001B[0m\u001B[0;34m(\u001B[0m\u001B[0mself\u001B[0m\u001B[0;34m,\u001B[0m \u001B[0msource\u001B[0m\u001B[0;34m,\u001B[0m \u001B[0mfilename\u001B[0m\u001B[0;34m,\u001B[0m \u001B[0msymbol\u001B[0m\u001B[0;34m)\u001B[0m\u001B[0;34m:\u001B[0m\u001B[0;34m\u001B[0m\u001B[0;34m\u001B[0m\u001B[0m\n\u001B[0;32m--> 143\u001B[0;31m         \u001B[0mcodeob\u001B[0m \u001B[0;34m=\u001B[0m \u001B[0mcompile\u001B[0m\u001B[0;34m(\u001B[0m\u001B[0msource\u001B[0m\u001B[0;34m,\u001B[0m \u001B[0mfilename\u001B[0m\u001B[0;34m,\u001B[0m \u001B[0msymbol\u001B[0m\u001B[0;34m,\u001B[0m \u001B[0mself\u001B[0m\u001B[0;34m.\u001B[0m\u001B[0mflags\u001B[0m\u001B[0;34m,\u001B[0m \u001B[0;32mTrue\u001B[0m\u001B[0;34m)\u001B[0m\u001B[0;34m\u001B[0m\u001B[0;34m\u001B[0m\u001B[0m\n\u001B[0m\u001B[1;32m    144\u001B[0m         \u001B[0;32mfor\u001B[0m \u001B[0mfeature\u001B[0m \u001B[0;32min\u001B[0m \u001B[0m_features\u001B[0m\u001B[0;34m:\u001B[0m\u001B[0;34m\u001B[0m\u001B[0;34m\u001B[0m\u001B[0m\n\u001B[1;32m    145\u001B[0m             \u001B[0;32mif\u001B[0m \u001B[0mcodeob\u001B[0m\u001B[0;34m.\u001B[0m\u001B[0mco_flags\u001B[0m \u001B[0;34m&\u001B[0m \u001B[0mfeature\u001B[0m\u001B[0;34m.\u001B[0m\u001B[0mcompiler_flag\u001B[0m\u001B[0;34m:\u001B[0m\u001B[0;34m\u001B[0m\u001B[0;34m\u001B[0m\u001B[0m\n",
      "\u001B[0;31mTypeError\u001B[0m: required field \"type_ignores\" missing from Module"
     ]
    }
   ],
   "source": [
    "wordVec = setOfWords2Vec(myVocabList, postingList[0])"
   ]
  },
  {
   "cell_type": "code",
   "execution_count": 3,
   "id": "e5789c56-2778-4024-9c7d-48191597cdcc",
   "metadata": {},
   "outputs": [
    {
     "ename": "TypeError",
     "evalue": "required field \"type_ignores\" missing from Module",
     "output_type": "error",
     "traceback": [
      "\u001B[0;31m---------------------------------------------------------------------------\u001B[0m",
      "\u001B[0;31mTypeError\u001B[0m                                 Traceback (most recent call last)",
      "\u001B[0;32m/usr/local/Cellar/python@3.9/3.9.14/Frameworks/Python.framework/Versions/3.9/lib/python3.9/codeop.py\u001B[0m in \u001B[0;36m__call__\u001B[0;34m(self, source, filename, symbol)\u001B[0m\n\u001B[1;32m    141\u001B[0m \u001B[0;34m\u001B[0m\u001B[0m\n\u001B[1;32m    142\u001B[0m     \u001B[0;32mdef\u001B[0m \u001B[0m__call__\u001B[0m\u001B[0;34m(\u001B[0m\u001B[0mself\u001B[0m\u001B[0;34m,\u001B[0m \u001B[0msource\u001B[0m\u001B[0;34m,\u001B[0m \u001B[0mfilename\u001B[0m\u001B[0;34m,\u001B[0m \u001B[0msymbol\u001B[0m\u001B[0;34m)\u001B[0m\u001B[0;34m:\u001B[0m\u001B[0;34m\u001B[0m\u001B[0;34m\u001B[0m\u001B[0m\n\u001B[0;32m--> 143\u001B[0;31m         \u001B[0mcodeob\u001B[0m \u001B[0;34m=\u001B[0m \u001B[0mcompile\u001B[0m\u001B[0;34m(\u001B[0m\u001B[0msource\u001B[0m\u001B[0;34m,\u001B[0m \u001B[0mfilename\u001B[0m\u001B[0;34m,\u001B[0m \u001B[0msymbol\u001B[0m\u001B[0;34m,\u001B[0m \u001B[0mself\u001B[0m\u001B[0;34m.\u001B[0m\u001B[0mflags\u001B[0m\u001B[0;34m,\u001B[0m \u001B[0;32mTrue\u001B[0m\u001B[0;34m)\u001B[0m\u001B[0;34m\u001B[0m\u001B[0;34m\u001B[0m\u001B[0m\n\u001B[0m\u001B[1;32m    144\u001B[0m         \u001B[0;32mfor\u001B[0m \u001B[0mfeature\u001B[0m \u001B[0;32min\u001B[0m \u001B[0m_features\u001B[0m\u001B[0;34m:\u001B[0m\u001B[0;34m\u001B[0m\u001B[0;34m\u001B[0m\u001B[0m\n\u001B[1;32m    145\u001B[0m             \u001B[0;32mif\u001B[0m \u001B[0mcodeob\u001B[0m\u001B[0;34m.\u001B[0m\u001B[0mco_flags\u001B[0m \u001B[0;34m&\u001B[0m \u001B[0mfeature\u001B[0m\u001B[0;34m.\u001B[0m\u001B[0mcompiler_flag\u001B[0m\u001B[0;34m:\u001B[0m\u001B[0;34m\u001B[0m\u001B[0;34m\u001B[0m\u001B[0m\n",
      "\u001B[0;31mTypeError\u001B[0m: required field \"type_ignores\" missing from Module"
     ]
    }
   ],
   "source": [
    "\"\"\"\n",
    "函数说明:朴素贝叶斯分类器训练函数 \n",
    "        求出的结果作为后续分类使用\n",
    "Parameters:\n",
    "    trainMatrix - 训练文档矩阵，即setOfWords2Vec返回的returnVec构成的矩阵\n",
    "    trainCategory - 训练类别标签向量，即loadDataSet返回的classVec\n",
    "Returns:\n",
    "    p0Vect - 侮辱类的条件概率数组\n",
    "    p1Vect - 非侮辱类的条件概率数组\n",
    "    pAbusive - 文档属于侮辱类的概率\n",
    "\"\"\"\n",
    "\n",
    "\n",
    "def trainNB0(trainMatrix, trainGategory):\n",
    "    numTrainDocs = len(trainMatrix)  # 训练样本数\n",
    "    numWords = len(trainMatrix[0])  # 样本单词数\n",
    "    pAbusive = sum(trainGategory) / float(numTrainDocs)  # 训练样本中侮辱性言论所占的比率\n",
    "    p0Num = ones(numWords)  # 正常言论样本中，增加词条的计数值\n",
    "    p1Num = ones(numWords)  # 侮辱言论样本中，增加词条的计数值\n",
    "    p0Demo = 2.0  # 正常言论样本中，所有词条的计数值\n",
    "    p1Demo = 2.0  # 侮辱言论样本中，所有词条的计数值\n",
    "    for i in range(numTrainDocs):\n",
    "        if trainGategory[i] == 1:\n",
    "            p1Num += trainMatrix[i]  # 侮辱性言论样本中 各单词出现的次数\n",
    "            p1Demo += sum(trainMatrix[i])  # 侮辱性言论样本中 总共的单词数\n",
    "        else:\n",
    "            p0Num += trainMatrix[i]  # 正常言论样本中 各单词出现的次数\n",
    "            p0Demo += sum(trainMatrix[i])  # 正常言论样本中 各单词出现的次数\n",
    "\n",
    "    p1Vect = log(p1Num / p1Demo)\n",
    "    p0Vect = log(p0Num / p0Demo)\n",
    "    return p0Vect, p1Vect, pAbusive"
   ]
  },
  {
   "cell_type": "markdown",
   "id": "9a4b2562-a85c-41b8-8c01-14b679958ac8",
   "metadata": {},
   "source": [
    "sum(vec2Classify * p1Vec) + log(pClass1)   \n",
    "p1Vec本身是对数函数，vec2Classify * p1Vec不为0的就是要预测的特征  \n",
    "sum：这里的sum是对对数函数的sum，变换后也就是各特征概率的相乘"
   ]
  },
  {
   "cell_type": "code",
   "execution_count": 4,
   "id": "82dc6545-edb5-4b00-80cc-8b35fee50089",
   "metadata": {},
   "outputs": [
    {
     "ename": "TypeError",
     "evalue": "required field \"type_ignores\" missing from Module",
     "output_type": "error",
     "traceback": [
      "\u001B[0;31m---------------------------------------------------------------------------\u001B[0m",
      "\u001B[0;31mTypeError\u001B[0m                                 Traceback (most recent call last)",
      "\u001B[0;32m/usr/local/Cellar/python@3.9/3.9.14/Frameworks/Python.framework/Versions/3.9/lib/python3.9/codeop.py\u001B[0m in \u001B[0;36m__call__\u001B[0;34m(self, source, filename, symbol)\u001B[0m\n\u001B[1;32m    141\u001B[0m \u001B[0;34m\u001B[0m\u001B[0m\n\u001B[1;32m    142\u001B[0m     \u001B[0;32mdef\u001B[0m \u001B[0m__call__\u001B[0m\u001B[0;34m(\u001B[0m\u001B[0mself\u001B[0m\u001B[0;34m,\u001B[0m \u001B[0msource\u001B[0m\u001B[0;34m,\u001B[0m \u001B[0mfilename\u001B[0m\u001B[0;34m,\u001B[0m \u001B[0msymbol\u001B[0m\u001B[0;34m)\u001B[0m\u001B[0;34m:\u001B[0m\u001B[0;34m\u001B[0m\u001B[0;34m\u001B[0m\u001B[0m\n\u001B[0;32m--> 143\u001B[0;31m         \u001B[0mcodeob\u001B[0m \u001B[0;34m=\u001B[0m \u001B[0mcompile\u001B[0m\u001B[0;34m(\u001B[0m\u001B[0msource\u001B[0m\u001B[0;34m,\u001B[0m \u001B[0mfilename\u001B[0m\u001B[0;34m,\u001B[0m \u001B[0msymbol\u001B[0m\u001B[0;34m,\u001B[0m \u001B[0mself\u001B[0m\u001B[0;34m.\u001B[0m\u001B[0mflags\u001B[0m\u001B[0;34m,\u001B[0m \u001B[0;32mTrue\u001B[0m\u001B[0;34m)\u001B[0m\u001B[0;34m\u001B[0m\u001B[0;34m\u001B[0m\u001B[0m\n\u001B[0m\u001B[1;32m    144\u001B[0m         \u001B[0;32mfor\u001B[0m \u001B[0mfeature\u001B[0m \u001B[0;32min\u001B[0m \u001B[0m_features\u001B[0m\u001B[0;34m:\u001B[0m\u001B[0;34m\u001B[0m\u001B[0;34m\u001B[0m\u001B[0m\n\u001B[1;32m    145\u001B[0m             \u001B[0;32mif\u001B[0m \u001B[0mcodeob\u001B[0m\u001B[0;34m.\u001B[0m\u001B[0mco_flags\u001B[0m \u001B[0;34m&\u001B[0m \u001B[0mfeature\u001B[0m\u001B[0;34m.\u001B[0m\u001B[0mcompiler_flag\u001B[0m\u001B[0;34m:\u001B[0m\u001B[0;34m\u001B[0m\u001B[0;34m\u001B[0m\u001B[0m\n",
      "\u001B[0;31mTypeError\u001B[0m: required field \"type_ignores\" missing from Module"
     ]
    }
   ],
   "source": [
    "def classifyNB(vec2Classify, p0Vec, p1Vec, pClass1):\n",
    "    p1 = sum(vec2Classify * p1Vec) + log(pClass1)  # 自然对数计算 ln(a*b)=ln(a)+ln(b)\n",
    "    p0 = sum(vec2Classify * p0Vec) + log(1.0 - pClass1)\n",
    "    if p1 > p0:\n",
    "        return 1\n",
    "    else:\n",
    "        return 0"
   ]
  },
  {
   "cell_type": "code",
   "execution_count": 5,
   "id": "5df84a0b-327c-4e26-9e82-0daacdcd7b4b",
   "metadata": {},
   "outputs": [
    {
     "ename": "TypeError",
     "evalue": "required field \"type_ignores\" missing from Module",
     "output_type": "error",
     "traceback": [
      "\u001B[0;31m---------------------------------------------------------------------------\u001B[0m",
      "\u001B[0;31mTypeError\u001B[0m                                 Traceback (most recent call last)",
      "\u001B[0;32m/usr/local/Cellar/python@3.9/3.9.14/Frameworks/Python.framework/Versions/3.9/lib/python3.9/codeop.py\u001B[0m in \u001B[0;36m__call__\u001B[0;34m(self, source, filename, symbol)\u001B[0m\n\u001B[1;32m    141\u001B[0m \u001B[0;34m\u001B[0m\u001B[0m\n\u001B[1;32m    142\u001B[0m     \u001B[0;32mdef\u001B[0m \u001B[0m__call__\u001B[0m\u001B[0;34m(\u001B[0m\u001B[0mself\u001B[0m\u001B[0;34m,\u001B[0m \u001B[0msource\u001B[0m\u001B[0;34m,\u001B[0m \u001B[0mfilename\u001B[0m\u001B[0;34m,\u001B[0m \u001B[0msymbol\u001B[0m\u001B[0;34m)\u001B[0m\u001B[0;34m:\u001B[0m\u001B[0;34m\u001B[0m\u001B[0;34m\u001B[0m\u001B[0m\n\u001B[0;32m--> 143\u001B[0;31m         \u001B[0mcodeob\u001B[0m \u001B[0;34m=\u001B[0m \u001B[0mcompile\u001B[0m\u001B[0;34m(\u001B[0m\u001B[0msource\u001B[0m\u001B[0;34m,\u001B[0m \u001B[0mfilename\u001B[0m\u001B[0;34m,\u001B[0m \u001B[0msymbol\u001B[0m\u001B[0;34m,\u001B[0m \u001B[0mself\u001B[0m\u001B[0;34m.\u001B[0m\u001B[0mflags\u001B[0m\u001B[0;34m,\u001B[0m \u001B[0;32mTrue\u001B[0m\u001B[0;34m)\u001B[0m\u001B[0;34m\u001B[0m\u001B[0;34m\u001B[0m\u001B[0m\n\u001B[0m\u001B[1;32m    144\u001B[0m         \u001B[0;32mfor\u001B[0m \u001B[0mfeature\u001B[0m \u001B[0;32min\u001B[0m \u001B[0m_features\u001B[0m\u001B[0;34m:\u001B[0m\u001B[0;34m\u001B[0m\u001B[0;34m\u001B[0m\u001B[0m\n\u001B[1;32m    145\u001B[0m             \u001B[0;32mif\u001B[0m \u001B[0mcodeob\u001B[0m\u001B[0;34m.\u001B[0m\u001B[0mco_flags\u001B[0m \u001B[0;34m&\u001B[0m \u001B[0mfeature\u001B[0m\u001B[0;34m.\u001B[0m\u001B[0mcompiler_flag\u001B[0m\u001B[0;34m:\u001B[0m\u001B[0;34m\u001B[0m\u001B[0;34m\u001B[0m\u001B[0m\n",
      "\u001B[0;31mTypeError\u001B[0m: required field \"type_ignores\" missing from Module"
     ]
    }
   ],
   "source": [
    "def testingNB():\n",
    "    listOPosts, listClasses = loadDataSet()\n",
    "    myVocabList = createVocabList(listOPosts)\n",
    "    trainMat = []\n",
    "    for postinDoc in listOPosts:\n",
    "        trainMat.append(setOfWords2Vec(myVocabList, postinDoc))\n",
    "    p0V, p1V, pAb = trainNB0(array(trainMat), array(listClasses))\n",
    "    testEntry = ['love', 'my', 'dalmation']\n",
    "    thisDoc = array(setOfWords2Vec(myVocabList, testEntry))\n",
    "    print(testEntry, 'classified as :', classifyNB(thisDoc, p0V, p1V, pAb))\n",
    "    testEntry = ['stupid', 'garbage']\n",
    "    thisDoc = array(setOfWords2Vec(myVocabList, testEntry))\n",
    "    print(testEntry, 'classified as :', classifyNB(thisDoc, p0V, p1V, pAb))"
   ]
  },
  {
   "cell_type": "code",
   "execution_count": 6,
   "id": "dbf8739b-6cec-4b72-9005-32f0c09b9082",
   "metadata": {},
   "outputs": [
    {
     "ename": "NameError",
     "evalue": "name 'testingNB' is not defined",
     "output_type": "error",
     "traceback": [
      "\u001B[0;31m---------------------------------------------------------------------------\u001B[0m",
      "\u001B[0;31mNameError\u001B[0m                                 Traceback (most recent call last)",
      "\u001B[0;32m<ipython-input-6-f751197d6691>\u001B[0m in \u001B[0;36m<module>\u001B[0;34m()\u001B[0m\n\u001B[0;32m----> 1\u001B[0;31m \u001B[0mtestingNB\u001B[0m\u001B[0;34m(\u001B[0m\u001B[0;34m)\u001B[0m\u001B[0;34m\u001B[0m\u001B[0;34m\u001B[0m\u001B[0m\n\u001B[0m",
      "\u001B[0;31mNameError\u001B[0m: name 'testingNB' is not defined"
     ]
    }
   ],
   "source": [
    "testingNB()"
   ]
  },
  {
   "cell_type": "code",
   "execution_count": null,
   "id": "18486092-a8b3-4383-8100-5467bebec7a3",
   "metadata": {},
   "outputs": [],
   "source": []
  }
 ],
 "metadata": {
  "kernelspec": {
   "display_name": "Python 3",
   "language": "python",
   "name": "python3"
  },
  "language_info": {
   "codemirror_mode": {
    "name": "ipython",
    "version": 3
   },
   "file_extension": ".py",
   "mimetype": "text/x-python",
   "name": "python",
   "nbconvert_exporter": "python",
   "pygments_lexer": "ipython3",
   "version": "3.7.4"
  }
 },
 "nbformat": 4,
 "nbformat_minor": 5
}
